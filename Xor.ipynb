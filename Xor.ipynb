{
  "nbformat": 4,
  "nbformat_minor": 0,
  "metadata": {
    "kernelspec": {
      "display_name": "Python 3",
      "language": "python",
      "name": "python3"
    },
    "language_info": {
      "codemirror_mode": {
        "name": "ipython",
        "version": 3
      },
      "file_extension": ".py",
      "mimetype": "text/x-python",
      "name": "python",
      "nbconvert_exporter": "python",
      "pygments_lexer": "ipython3",
      "version": "3.7.4"
    },
    "colab": {
      "name": "Xor.ipynb",
      "provenance": [],
      "collapsed_sections": []
    }
  },
  "cells": [
    {
      "cell_type": "code",
      "metadata": {
        "id": "XJtl9Bino6IJ"
      },
      "source": [
        "import numpy as np\n",
        "import keras\n",
        "from keras.layers import Dense\n",
        "from keras.models import Sequential"
      ],
      "execution_count": null,
      "outputs": []
    },
    {
      "cell_type": "code",
      "metadata": {
        "id": "n8q1V2ENpLnf"
      },
      "source": [
        "from keras.callbacks import EarlyStopping"
      ],
      "execution_count": null,
      "outputs": []
    },
    {
      "cell_type": "code",
      "metadata": {
        "id": "IimBPlQfo6IN"
      },
      "source": [
        "entradas = np.array([(0,0),(0,1),(1,0),(1,1)])\n",
        "saidas = np.array([0,1,1,0])"
      ],
      "execution_count": null,
      "outputs": []
    },
    {
      "cell_type": "code",
      "metadata": {
        "id": "y0NaGxGEo6IQ"
      },
      "source": [
        "classificador = Sequential()\n",
        "classificador.add(Dense(units = 32, activation = 'relu', input_dim = 2)) \n",
        "#classificador.add(Dense(units = 32, activation = 'tanh', input_dim = 2)) \n",
        "classificador.add(Dense(units=1, activation='sigmoid'))"
      ],
      "execution_count": null,
      "outputs": []
    },
    {
      "cell_type": "code",
      "metadata": {
        "id": "Pi4HkUPNo6IU"
      },
      "source": [
        "otimizador = keras.optimizers.Adam(lr=0.001)\n",
        "#otimizador = keras.optimizers.SGD(lr=0.0001)"
      ],
      "execution_count": null,
      "outputs": []
    },
    {
      "cell_type": "code",
      "metadata": {
        "id": "t6cBJxUQo6Ib"
      },
      "source": [
        "classificador.compile(optimizer = otimizador, loss = 'binary_crossentropy',\n",
        "                      metrics = ['binary_accuracy'])"
      ],
      "execution_count": null,
      "outputs": []
    },
    {
      "cell_type": "code",
      "metadata": {
        "id": "tP5Ixv0Lr7u2"
      },
      "source": [
        "#classificador.compile(optimizer = 'adam', loss = 'binary_crossentropy',\n",
        "#                      metrics = ['binary_accuracy'])"
      ],
      "execution_count": null,
      "outputs": []
    },
    {
      "cell_type": "code",
      "metadata": {
        "id": "KxGktVaoo6Ih",
        "outputId": "3efcf1ed-173a-4749-84b8-ee0cd9ad4961",
        "colab": {
          "base_uri": "https://localhost:8080/",
          "height": 408
        }
      },
      "source": [
        "#early_stopping_monitor = EarlyStopping(monitor='loss', mode='min', verbose=1, patience=5, min_delta=0.0001)\n",
        "callbacks = [EarlyStopping(monitor='binary_accuracy', min_delta=0.00001, patience=10, restore_best_weights=True)]\n",
        "\n",
        "classificador.fit(entradas, saidas, batch_size = 1, epochs = 200, callbacks=callbacks)\n",
        "#classificador.fit(entradas, saidas, batch_size = 1, epochs = 200)"
      ],
      "execution_count": null,
      "outputs": [
        {
          "output_type": "stream",
          "text": [
            "Epoch 1/200\n",
            "4/4 [==============================] - 0s 4ms/step - loss: 0.2709 - binary_accuracy: 1.0000\n",
            "Epoch 2/200\n",
            "4/4 [==============================] - 0s 2ms/step - loss: 0.2699 - binary_accuracy: 1.0000\n",
            "Epoch 3/200\n",
            "4/4 [==============================] - 0s 2ms/step - loss: 0.2691 - binary_accuracy: 1.0000\n",
            "Epoch 4/200\n",
            "4/4 [==============================] - 0s 2ms/step - loss: 0.2683 - binary_accuracy: 1.0000\n",
            "Epoch 5/200\n",
            "4/4 [==============================] - 0s 2ms/step - loss: 0.2674 - binary_accuracy: 1.0000\n",
            "Epoch 6/200\n",
            "4/4 [==============================] - 0s 2ms/step - loss: 0.2667 - binary_accuracy: 1.0000\n",
            "Epoch 7/200\n",
            "4/4 [==============================] - 0s 2ms/step - loss: 0.2662 - binary_accuracy: 1.0000\n",
            "Epoch 8/200\n",
            "4/4 [==============================] - 0s 2ms/step - loss: 0.2650 - binary_accuracy: 1.0000\n",
            "Epoch 9/200\n",
            "4/4 [==============================] - 0s 2ms/step - loss: 0.2642 - binary_accuracy: 1.0000\n",
            "Epoch 10/200\n",
            "4/4 [==============================] - 0s 2ms/step - loss: 0.2634 - binary_accuracy: 1.0000\n",
            "Epoch 11/200\n",
            "4/4 [==============================] - 0s 2ms/step - loss: 0.2625 - binary_accuracy: 1.0000\n"
          ],
          "name": "stdout"
        },
        {
          "output_type": "execute_result",
          "data": {
            "text/plain": [
              "<keras.callbacks.History at 0x7fb8e0528ac8>"
            ]
          },
          "metadata": {
            "tags": []
          },
          "execution_count": 140
        }
      ]
    },
    {
      "cell_type": "code",
      "metadata": {
        "id": "lZA11etR3aZ0",
        "outputId": "37a85ed2-312e-4a60-e56f-230a8f5cc3e0",
        "colab": {
          "base_uri": "https://localhost:8080/",
          "height": 238
        }
      },
      "source": [
        "#early_stopping_monitor = EarlyStopping(monitor='loss', mode='min', verbose=1, patience=5, min_delta=0.0001)\n",
        "callbacks = [EarlyStopping(monitor='loss', min_delta=0.0001, patience=5, mode='auto', restore_best_weights=True)]\n",
        "\n",
        "classificador.fit(entradas, saidas, batch_size = 1, epochs = 100, callbacks=callbacks)"
      ],
      "execution_count": null,
      "outputs": [
        {
          "output_type": "stream",
          "text": [
            "Epoch 1/100\n",
            "4/4 [==============================] - 0s 4ms/step - loss: 0.6983 - binary_accuracy: 0.5000\n",
            "Epoch 2/100\n",
            "4/4 [==============================] - 0s 2ms/step - loss: 0.6983 - binary_accuracy: 0.5000\n",
            "Epoch 3/100\n",
            "4/4 [==============================] - 0s 2ms/step - loss: 0.6982 - binary_accuracy: 0.5000\n",
            "Epoch 4/100\n",
            "4/4 [==============================] - 0s 2ms/step - loss: 0.6982 - binary_accuracy: 0.5000\n",
            "Epoch 5/100\n",
            "4/4 [==============================] - 0s 2ms/step - loss: 0.6982 - binary_accuracy: 0.5000\n",
            "Epoch 6/100\n",
            "4/4 [==============================] - 0s 2ms/step - loss: 0.6982 - binary_accuracy: 0.5000\n"
          ],
          "name": "stdout"
        },
        {
          "output_type": "execute_result",
          "data": {
            "text/plain": [
              "<keras.callbacks.History at 0x7fb8e06279e8>"
            ]
          },
          "metadata": {
            "tags": []
          },
          "execution_count": 134
        }
      ]
    }
  ]
}